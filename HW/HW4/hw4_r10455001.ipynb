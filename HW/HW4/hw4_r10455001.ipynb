{
 "cells": [
  {
   "cell_type": "code",
   "execution_count": 1,
   "metadata": {},
   "outputs": [],
   "source": [
    "import csv\n",
    "import json\n",
    "import mysql.connector\n",
    "\n",
    "# please modify hw4_config.json to your own config file\n",
    "with open('hw4_config.json') as f:\n",
    "    config = json.load(f)\n",
    "\n",
    "host = config['host']\n",
    "user = config['user']\n",
    "passwd = config['passwd']\n",
    "dbms_student_path = config['dbms_student_path']\n",
    "new_student_path = config['new_student_path']\n"
   ]
  },
  {
   "cell_type": "markdown",
   "metadata": {},
   "source": [
    "## 1-1: Input data into student table"
   ]
  },
  {
   "cell_type": "code",
   "execution_count": 2,
   "metadata": {
    "scrolled": true
   },
   "outputs": [],
   "source": [
    "mydb = mysql.connector.connect(\n",
    "  host = host,user = user, password = passwd, \n",
    "    auth_plugin='mysql_native_password' )\n",
    "\n",
    "mycursor = mydb.cursor()\n",
    "\n",
    "mycursor.execute(\"CREATE DATABASE DB_class\")\n",
    "mycursor.execute(\"USE DB_class\")\n",
    "\n",
    "mycursor.execute(\"CREATE TABLE STUDENT (身份 varchar(20), 系所 varchar(225), 年級 varchar(10), 學號 varchar(225) primary key NOT NULL, 姓名 varchar(225) NOT NULL, 信箱 varchar(225), 班別 varchar(225))\")\n",
    "\n",
    "with open(dbms_student_path,mode = 'r') as file:\n",
    "    input_data = csv.reader(file)\n",
    "    next(input_data)\n",
    "    insert = \"INSERT INTO STUDENT (身份,系所,年級,學號,姓名,信箱,班別) VALUES (%s,%s,%s,%s,%s,%s,%s)\"\n",
    "    for row in input_data:\n",
    "        mycursor.execute(insert, tuple(row))\n",
    "\n",
    "#mycursor.execute('SELECT * FROM STUDENT')\n",
    "#output = mycursor.fetchall()\n",
    "#print(output)"
   ]
  },
  {
   "cell_type": "markdown",
   "metadata": {},
   "source": [
    "## 1-2: Read the information about yourself"
   ]
  },
  {
   "cell_type": "code",
   "execution_count": 3,
   "metadata": {},
   "outputs": [
    {
     "name": "stdout",
     "output_type": "stream",
     "text": [
      "[('學生', '基蛋所', '2', 'R10455001', '陳品瑄 (PIN-XUAN CHEN)', 'r10455001@ntu.edu.tw', '資料庫系統-從SQL到NoSQL (EE5178)')]\n"
     ]
    }
   ],
   "source": [
    "mycursor.execute('SELECT * FROM STUDENT WHERE 學號 = \"R10455001\"')\n",
    "\n",
    "output = mycursor.fetchall()\n",
    "print(output)\n"
   ]
  },
  {
   "cell_type": "markdown",
   "metadata": {},
   "source": [
    "## 1-3: Update your own value of the \"身份\" column "
   ]
  },
  {
   "cell_type": "code",
   "execution_count": 4,
   "metadata": {},
   "outputs": [
    {
     "name": "stdout",
     "output_type": "stream",
     "text": [
      "[('優等生', '基蛋所', '2', 'R10455001', '陳品瑄 (PIN-XUAN CHEN)', 'r10455001@ntu.edu.tw', '資料庫系統-從SQL到NoSQL (EE5178)')]\n"
     ]
    }
   ],
   "source": [
    "mycursor.execute('UPDATE STUDENT SET 身份 = \"優等生\" WHERE 學號 = \"R10455001\" ')\n",
    "mycursor.execute('SELECT * FROM STUDENT WHERE 學號 = \"R10455001\"')\n",
    "\n",
    "output = mycursor.fetchall()\n",
    "print(output)"
   ]
  },
  {
   "cell_type": "markdown",
   "metadata": {},
   "source": [
    "## 1-4: Insert three new students "
   ]
  },
  {
   "cell_type": "code",
   "execution_count": 5,
   "metadata": {},
   "outputs": [
    {
     "name": "stdout",
     "output_type": "stream",
     "text": [
      "[('學生', '物理系', '3', 'B09987653', '小黃', 'b09987653@ntu.edu.tw', '資料庫系統-從SQL到NoSQL (EE5178)'), ('旁聽生', '電機所', '2', 'R10123456', '小紅', 'r10123456@ntu.edu.tw', '資料庫系統-從SQL到NoSQL (EE5178)'), ('觀察者', '電信所', '1', 'R11123001', '小綠', 'r11123001@ntu.edu.tw', '資料庫系統-從SQL到NoSQL (EE5178)')]\n"
     ]
    }
   ],
   "source": [
    "with open (new_student_path, mode = 'r') as file:\n",
    "    new_data = csv.reader(file)\n",
    "    next(new_data)\n",
    "    insert = \"INSERT INTO STUDENT (身份,系所,年級,學號,姓名,信箱,班別) VALUES (%s,%s,%s,%s,%s,%s,%s)\"\n",
    "    for row in new_data:\n",
    "        mycursor.execute(insert, tuple(row))\n",
    "\n",
    "mycursor.execute('SELECT * FROM STUDENT WHERE 學號 = \"R10123456\" OR 學號 = \"B09987653\" OR 學號 = \"R11123001\" ')\n",
    "\n",
    "output = mycursor.fetchall()\n",
    "print(output)"
   ]
  },
  {
   "cell_type": "markdown",
   "metadata": {},
   "source": [
    "## 1-5: Prepared select statement "
   ]
  },
  {
   "cell_type": "code",
   "execution_count": 6,
   "metadata": {},
   "outputs": [
    {
     "name": "stdout",
     "output_type": "stream",
     "text": [
      "[('旁聽生', '電機所', '2', 'R10123456', '小紅', 'r10123456@ntu.edu.tw', '資料庫系統-從SQL到NoSQL (EE5178)')]\n",
      "[('學生', '物理系', '3', 'B09987653', '小黃', 'b09987653@ntu.edu.tw', '資料庫系統-從SQL到NoSQL (EE5178)')]\n",
      "[('觀察者', '電信所', '1', 'R11123001', '小綠', 'r11123001@ntu.edu.tw', '資料庫系統-從SQL到NoSQL (EE5178)')]\n"
     ]
    }
   ],
   "source": [
    "for i in [\"R10123456\", \"B09987653\", \"R11123001\" ]:\n",
    "    mycursor.execute('SELECT * FROM STUDENT WHERE 學號 = %s',(i,))\n",
    "    output = mycursor.fetchall()\n",
    "    print(output)"
   ]
  },
  {
   "cell_type": "markdown",
   "metadata": {},
   "source": [
    "## 1-6: Group information"
   ]
  },
  {
   "cell_type": "code",
   "execution_count": 7,
   "metadata": {
    "scrolled": false
   },
   "outputs": [
    {
     "name": "stdout",
     "output_type": "stream",
     "text": [
      "[('學生', '電機系', '6', 'D06921008', '黃尹姿 (HUANG YIN TZU)', 'd06921008@ntu.edu.tw', '資料庫系統-從SQL到NoSQL (EE5178)', '5', 'N'), ('學生', '電機系', '3', 'F08921A05', '陳憶賢 (YI-HSIEN CHEN)', 'f08921a05@ntu.edu.tw', '資料庫系統-從SQL到NoSQL (EE5178)', '5', 'Y'), ('學生', '基蛋所', '3', 'R08424026', '莊惠文 (CHUANG HUI WEN)', 'r08424026@ntu.edu.tw', '資料庫系統-從SQL到NoSQL (EE5178)', '5', 'N'), ('優等生', '基蛋所', '2', 'R10455001', '陳品瑄 (PIN-XUAN CHEN)', 'r10455001@ntu.edu.tw', '資料庫系統-從SQL到NoSQL (EE5178)', '5', 'N'), ('學生', '生機系', '1', 'R11631028', '劉易霖 (LIU, YIH-LIN)', 'r11631028@ntu.edu.tw', '資料庫系統-從SQL到NoSQL (EE5178)', '5', 'N')]\n"
     ]
    }
   ],
   "source": [
    "mycursor.execute('ALTER TABLE STUDENT ADD final_group varchar(10) DEFAULT \"0\" ')\n",
    "mycursor.execute('ALTER TABLE STUDENT ADD final_captain varchar(10) DEFAULT \"N\" ')\n",
    "\n",
    "\n",
    "\n",
    "#change group\n",
    "for i in [\"F08921a05\", \"D06921008\", \"R11631028\", \"R08424026\", \"R10455001\" ]:\n",
    "    mycursor.execute('UPDATE STUDENT SET final_group = \"5\" WHERE 學號 = %s', (i,))\n",
    "    \n",
    "#change captain \n",
    "mycursor.execute('UPDATE STUDENT SET final_captain = \"Y\" WHERE 學號 = \"F08921a05\" ')\n",
    "\n",
    "#output our group information\n",
    "mycursor.execute('SELECT * FROM STUDENT WHERE final_group = \"5\" ')\n",
    "output = mycursor.fetchall()\n",
    "print(output)\n"
   ]
  },
  {
   "cell_type": "code",
   "execution_count": 8,
   "metadata": {},
   "outputs": [
    {
     "data": {
      "text/plain": [
       "True"
      ]
     },
     "execution_count": 8,
     "metadata": {},
     "output_type": "execute_result"
    }
   ],
   "source": [
    "mydb.commit()\n",
    "mydb.close()\n",
    "mycursor.close()"
   ]
  },
  {
   "cell_type": "code",
   "execution_count": null,
   "metadata": {},
   "outputs": [],
   "source": []
  }
 ],
 "metadata": {
  "kernelspec": {
   "display_name": "Python 3 (ipykernel)",
   "language": "python",
   "name": "python3"
  },
  "language_info": {
   "codemirror_mode": {
    "name": "ipython",
    "version": 3
   },
   "file_extension": ".py",
   "mimetype": "text/x-python",
   "name": "python",
   "nbconvert_exporter": "python",
   "pygments_lexer": "ipython3",
   "version": "3.9.6"
  }
 },
 "nbformat": 4,
 "nbformat_minor": 2
}
